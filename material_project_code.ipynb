{
  "nbformat": 4,
  "nbformat_minor": 0,
  "metadata": {
    "colab": {
      "provenance": [],
      "authorship_tag": "ABX9TyOKOdn8ltc2hJv+6dnhDq+k",
      "include_colab_link": true
    },
    "kernelspec": {
      "name": "python3",
      "display_name": "Python 3"
    },
    "language_info": {
      "name": "python"
    }
  },
  "cells": [
    {
      "cell_type": "markdown",
      "metadata": {
        "id": "view-in-github",
        "colab_type": "text"
      },
      "source": [
        "<a href=\"https://colab.research.google.com/github/Mubarak02-alt/materials-science-code/blob/main/material_project_code.ipynb\" target=\"_parent\"><img src=\"https://colab.research.google.com/assets/colab-badge.svg\" alt=\"Open In Colab\"/></a>"
      ]
    },
    {
      "cell_type": "code",
      "source": [],
      "metadata": {
        "id": "nhvZoRdJ9cVH"
      },
      "execution_count": null,
      "outputs": []
    },
    {
      "cell_type": "code",
      "execution_count": 2,
      "metadata": {
        "colab": {
          "base_uri": "https://localhost:8080/"
        },
        "id": "kSYImK7-7VnG",
        "outputId": "e6e006cc-7a80-42d2-a4a0-9d64adfe8de0"
      },
      "outputs": [
        {
          "output_type": "stream",
          "name": "stdout",
          "text": [
            "I am awesome\n",
            "I-am-awesome\n",
            "I_am_awesome\n",
            "The density of the material is: 2.0 g/cm^3\n"
          ]
        }
      ],
      "source": [
        "str = \" \"\n",
        "iter =(\"I\",\"am\",\"awesome\")\n",
        "a = str.join(iter)\n",
        "print(a)\n",
        "str = \"-\"\n",
        "iter =(\"I\",\"am\",\"awesome\")\n",
        "a = str.join(iter)\n",
        "print(a)\n",
        "str = \"_\"\n",
        "muba = (\"I\",\"am\",\"awesome\")\n",
        "a = str.join(muba)\n",
        "print(a)\n",
        "\n",
        "\n",
        "# calculating the density of a material\n",
        "\n",
        "def calculate_density(mass, volume):\n",
        "  \"\"\"calculates the density of a material.\n",
        "\n",
        "  Args:\n",
        "   mass: The mass of the material in grams.\n",
        "   volume: The volume of the material in cubic centimeters.\n",
        "\n",
        "  Returns:\n",
        "   The density of the material in grams per cubic centimeter.\n",
        "   \"\"\"\n",
        "\n",
        "  density = mass / volume\n",
        "\n",
        "  return density\n",
        "\n",
        "#call the function with sample values\n",
        "mass = 100 # grams\n",
        "volume = 50 # cubic centimeters\n",
        "\n",
        "density_result = calculate_density(mass, volume)\n",
        "\n",
        "print(f\"The density of the material is: {density_result} g/cm^3\")\n",
        "\n",
        "\n"
      ]
    },
    {
      "cell_type": "code",
      "source": [],
      "metadata": {
        "id": "uJKy5Q_VRewY"
      },
      "execution_count": null,
      "outputs": []
    }
  ]
}