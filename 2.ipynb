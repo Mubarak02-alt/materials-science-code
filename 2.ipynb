{
  "nbformat": 4,
  "nbformat_minor": 0,
  "metadata": {
    "colab": {
      "provenance": [],
      "authorship_tag": "ABX9TyMqNMU6KsgM+X0tpvedb7sh",
      "include_colab_link": true
    },
    "kernelspec": {
      "name": "python3",
      "display_name": "Python 3"
    },
    "language_info": {
      "name": "python"
    }
  },
  "cells": [
    {
      "cell_type": "markdown",
      "metadata": {
        "id": "view-in-github",
        "colab_type": "text"
      },
      "source": [
        "<a href=\"https://colab.research.google.com/github/Mubarak02-alt/materials-science-code/blob/main/2.ipynb\" target=\"_parent\"><img src=\"https://colab.research.google.com/assets/colab-badge.svg\" alt=\"Open In Colab\"/></a>"
      ]
    },
    {
      "cell_type": "code",
      "execution_count": null,
      "metadata": {
        "id": "UWSqm0aMx-W8"
      },
      "outputs": [],
      "source": []
    },
    {
      "cell_type": "code",
      "source": [
        "def add_numbers(a, b):\n",
        "  \"\"\"adds two numbers and returns the result\"\"\"\n",
        "  return a + b\n",
        "def subtract_numbers(a, b):\n",
        "  \"\"\"subtracts two numbers and returns the result\"\"\"\n",
        "  return a - b\n",
        "def divide_numbers(a, b):\n",
        "  \"\"\"divides two numbers and returns the result.Handles division by zero.\"\"\"\n",
        "  if b == 0:\n",
        "    raise ValueError(\"Cannot divide by zero\")\n",
        "  return a / b\n",
        "#call the function with sample of values\n",
        "a = 20\n",
        "b = 5\n",
        "sum = add_numbers(a, b)\n",
        "print(f\"The sum of {a} and {b} is {sum}\")\n",
        "\n",
        "difference = subtract_numbers(a, b)\n",
        "print(f\"The difference of {a} and {b} is {difference}\")\n",
        "\n",
        "quotient = divide_numbers(a, b)\n",
        "print(f\"The quotient of {a} and {b} is {quotient}\")"
      ],
      "metadata": {
        "id": "BmCw-2M0yE7w",
        "colab": {
          "base_uri": "https://localhost:8080/"
        },
        "outputId": "79e43812-9ee3-437c-b837-0c5352db0144"
      },
      "execution_count": 4,
      "outputs": [
        {
          "output_type": "stream",
          "name": "stdout",
          "text": [
            "The sum of 20 and 5 is 25\n",
            "The difference of 20 and 5 is 15\n",
            "The quotient of 20 and 5 is 4.0\n"
          ]
        }
      ]
    },
    {
      "cell_type": "code",
      "source": [],
      "metadata": {
        "id": "-rTwGogayp_p"
      },
      "execution_count": null,
      "outputs": []
    }
  ]
}